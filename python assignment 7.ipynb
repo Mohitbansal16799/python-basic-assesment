{
 "cells": [
  {
   "cell_type": "markdown",
   "id": "bd9fc29e",
   "metadata": {},
   "source": [
    "Ques1 What is the name of the feature responsible for generating Regex objects?"
   ]
  },
  {
   "cell_type": "markdown",
   "id": "c1f5fd30",
   "metadata": {},
   "source": [
    "Ans compile()"
   ]
  },
  {
   "cell_type": "markdown",
   "id": "9675b648",
   "metadata": {},
   "source": [
    "Ques2 Why do raw strings often appear in Regex objects?\n",
    "\n",
    "Ans.Raw strings are used so that backslashes do not have to be escaped.\n"
   ]
  },
  {
   "cell_type": "markdown",
   "id": "6b05051d",
   "metadata": {},
   "source": [
    "Ques3 What is the return value of the search() method?\n",
    "\n",
    "Ans. to search the match and return the position of the match "
   ]
  },
  {
   "cell_type": "markdown",
   "id": "9db2bc72",
   "metadata": {},
   "source": [
    "Ques4 From a Match item, how do you get the actual strings that match the pattern?\n",
    "\n",
    "Ans he group() method returns strings of the matched text."
   ]
  },
  {
   "cell_type": "markdown",
   "id": "e41db301",
   "metadata": {},
   "source": [
    "Ques5 In the regex which created from the r'(\\d\\d\\d)-(\\d\\d\\d-\\d\\d\\d\\d)', what does group zero cover?\n",
    "Group 2? Group 1?\n",
    "\n",
    "Ans. Group 0 is the entire match, group 1 covers the first set of parentheses, and group 2 covers the second set of parentheses."
   ]
  },
  {
   "cell_type": "markdown",
   "id": "7a8a8873",
   "metadata": {},
   "source": [
    "Ques6 In standard expression syntax, parentheses and intervals have distinct meanings. How can you tell\n",
    "a regex that you want it to fit real parentheses and periods?\n",
    "\n",
    "Ans.by using backslash or raw string "
   ]
  },
  {
   "cell_type": "markdown",
   "id": "0403cbe0",
   "metadata": {},
   "source": [
    "Ques7 The findall() method returns a string list or a list of string tuples. What causes it to return one of\n",
    "the two options?\n",
    "\n",
    "ANs If the regex has no groups, a list of strings is returned. If the regex has groups, a list of tuples of strings is returned."
   ]
  },
  {
   "cell_type": "markdown",
   "id": "9e3f5b2b",
   "metadata": {},
   "source": [
    "Ques8 In standard expressions, what does the | character mean?\n",
    "\n",
    "Ans either or"
   ]
  },
  {
   "cell_type": "markdown",
   "id": "648896e7",
   "metadata": {},
   "source": [
    "Ques9 In regular expressions, what does the character stand for?\n",
    "\n",
    "Ans. character stans for qualifying the match of search "
   ]
  },
  {
   "cell_type": "markdown",
   "id": "60807ad8",
   "metadata": {},
   "source": [
    "Ques10.In regular expressions, what is the difference between the + and * characters?\n",
    "\n",
    "Ans *  preceding expression can match zero or more times\n",
    "    +  preceding expression can match one or more times"
   ]
  },
  {
   "cell_type": "markdown",
   "id": "df83bccb",
   "metadata": {},
   "source": [
    "Ques11 What is the difference between {4} and {4,5} in regular expression?\n",
    "\n",
    "Ans. The {4} matches exactly four instances of the preceding group. The {4,5} matches between four and five instances."
   ]
  },
  {
   "cell_type": "markdown",
   "id": "7772412c",
   "metadata": {},
   "source": [
    "Ques12 What do you mean by the \\d, \\w, and \\s shorthand character classes signify in regular\n",
    "expressions?\n",
    "\n",
    "Ans d, \\w, and \\s stans for match a single character that is a digit, word, or space character,"
   ]
  },
  {
   "cell_type": "markdown",
   "id": "68fdd5fd",
   "metadata": {},
   "source": [
    "Ques13 What do means by \\D, \\W, and \\S shorthand character classes signify in regular expressions?\n",
    "\n",
    "Ans \\D, \\W, and \\S stans for match a single character that is not a digit, word, or space character. opposite to the lower case."
   ]
  },
  {
   "cell_type": "markdown",
   "id": "5b18a41d",
   "metadata": {},
   "source": [
    "Ques14 What is the difference between .*? and .*?\n",
    "\n",
    "Ans What does .*? Mean in regex?\n",
    "(. *?) matches any character ( . ) any number of times ( * ), as few times as possible to make the regex match ( ? ). You'll get a match on any string, but you'll only capture a blank string because of the question mark"
   ]
  },
  {
   "cell_type": "markdown",
   "id": "8d118cf8",
   "metadata": {},
   "source": [
    "QUes15. What is the syntax for matching both numbers and lowercase letters with a character class?\n",
    "\n",
    "Ans the character class [a-zA-Z0-9] will match all lowercase letters, uppercase letters, and numbers."
   ]
  },
  {
   "cell_type": "markdown",
   "id": "00411ce3",
   "metadata": {},
   "source": [
    "Ques16 What is the procedure for making a normal expression in regax case insensitive?\n",
    "\n",
    "Ans by using re.IGNORECASE"
   ]
  },
  {
   "cell_type": "markdown",
   "id": "485bda33",
   "metadata": {},
   "source": [
    "Ques17 What does the . character normally match? What does it match if re.DOTALL is passed as 2nd\n",
    "argument in re.compile()?\n",
    "\n",
    "Anscharacter normally matches any character except the newline character. If re. DOTALL is passed as the second argument to re. compile(), then the dot will also match newline characters."
   ]
  },
  {
   "cell_type": "markdown",
   "id": "01318465",
   "metadata": {},
   "source": [
    "Ques18 If numReg = re.compile(r'\\d+'), what will numRegex.sub('X','11 drummers, 10 pipers, five rings, 4\n",
    "hen') return?\n",
    "\n",
    "Ans. X drummers, X pipers, five rings, X hens"
   ]
  },
  {
   "cell_type": "markdown",
   "id": "ea35374e",
   "metadata": {},
   "source": [
    "Ques19 What does passing re.VERBOSE as the 2nd argument to re.compile() allow to do?\n",
    "\n",
    "Ans. ignore whitespace and comments inside the regular expression string."
   ]
  },
  {
   "cell_type": "markdown",
   "id": "67a03854",
   "metadata": {},
   "source": [
    "Ques20. How would you write a regex that matches a number with commas for every three digits? It must match the following:\n",
    "\n",
    "'42'\n",
    "\n",
    "'1,234'\n",
    "\n",
    "'6,368,745'\n",
    "\n",
    "but not the following:\n",
    "\n",
    "'12,34,567' (which has only two digits between the commas)\n",
    "\n",
    "'1234' (which lacks commas)\n",
    "\n",
    "Ans. numCommas = re.compile(r'(^\\d{1,3})(,\\d{3})*$') numCommas.search('12,34,567').group()\n",
    "\n",
    "Ques21. How would you write a regex that matches the full name of someone whose last name is Nakamoto? You can assume that the first name that comes before it will always be one word that begins with a capital letter. The regex must match the following:\n",
    "\n",
    "'Satoshi Nakamoto'\n",
    "\n",
    "'Alice Nakamoto'\n",
    "\n",
    "'Robocop Nakamoto'\n",
    "\n",
    "but not the following:\n",
    "\n",
    "'satoshi Nakamoto' (where the first name is not capitalized)\n",
    "\n",
    "'Mr. Nakamoto' (where the preceding word has a nonletter character)\n",
    "\n",
    "'Nakamoto' (which has no first name)\n",
    "\n",
    "'Satoshi nakamoto' (where Nakamoto is not capitalized)\n",
    "\n",
    "Ans fullName = re.compile(r'[A-Z]\\w [A-Z]\\w') mo = fullName.findall('Satoshi Nakamoto, satoshi Nakamoto, Alice Nakamoto, Nakamoto, Satoshi nakamoto, Robocop Nakamoto') mo.group()\n",
    "\n",
    "Ques22. How would you write a regex that matches a sentence where the first word is either Alice, Bob, or Carol; the second word is either eats, pets, or throws; the third word is apples, cats, or baseballs; and the sentence ends with a period? This regex should be case-insensitive. It must match the following:\n",
    "\n",
    "'Alice eats apples.'\n",
    "\n",
    "'Bob pets cats.'\n",
    "\n",
    "'Carol throws baseballs.'\n",
    "\n",
    "'Alice throws Apples.'\n",
    "\n",
    "'BOB EATS CATS.'\n",
    "\n",
    "but not the following:\n",
    "\n",
    "'Robocop eats apples.'\n",
    "\n",
    "'ALICE THROWS FOOTBALLS.'\n",
    "\n",
    "'Carol eats 7 cats.'\n",
    "\n",
    "Ans. senRegex = re.compile(r'(Alice|Bob|Carol)\\s(eats|pets|throws)\\s(apples|cats|baseballs).', re.I|re.DOTALL)\n",
    "\n",
    "senRegex.findall('''Alice eats apples.'\n",
    "\n",
    "'Bob pets cats.'\n",
    "\n",
    "'Carol throws baseballs.'\n",
    "\n",
    "'Alice throws Apples.'\n",
    "\n",
    "'BOB EATS CATS.'\n",
    "\n",
    "but not the following:\n",
    "\n",
    "'Robocop eats apples.'\n",
    "\n",
    "'ALICE THROWS FOOTBALLS.'\n",
    "\n",
    "'Carol eats 7 cats.''')\n",
    "\n",
    "Test result: [('Alice', 'eats', 'apples'), ('Bob', 'pets', 'cats'), ('Carol', 'throws', 'baseballs'), ('Alice', 'throws', 'Apples'), ('BOB', 'EATS', 'CATS')]"
   ]
  },
  {
   "cell_type": "code",
   "execution_count": null,
   "id": "09fea96d",
   "metadata": {},
   "outputs": [],
   "source": []
  }
 ],
 "metadata": {
  "kernelspec": {
   "display_name": "Python 3 (ipykernel)",
   "language": "python",
   "name": "python3"
  },
  "language_info": {
   "codemirror_mode": {
    "name": "ipython",
    "version": 3
   },
   "file_extension": ".py",
   "mimetype": "text/x-python",
   "name": "python",
   "nbconvert_exporter": "python",
   "pygments_lexer": "ipython3",
   "version": "3.9.7"
  }
 },
 "nbformat": 4,
 "nbformat_minor": 5
}
