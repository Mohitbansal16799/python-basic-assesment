{
 "cells": [
  {
   "cell_type": "markdown",
   "id": "7fce017d",
   "metadata": {},
   "source": [
    "Ques1 In what modes should the PdfFileReader() and PdfFileWriter() File objects will be opened?\n",
    "\n",
    "Ans PdfFileReader() opens in rb (read binary) mode\n",
    "\n",
    "    PdfFileWriter() opens in wb (write binary) mode "
   ]
  },
  {
   "cell_type": "markdown",
   "id": "cde40d29",
   "metadata": {},
   "source": [
    "Ques2 2. From a PdfFileReader object, how do you get a Page object for page 5?\n",
    "\n",
    "Ans by calling getpage() method"
   ]
  },
  {
   "cell_type": "markdown",
   "id": "cb6aa1d1",
   "metadata": {},
   "source": [
    "Ques3 What PdfFileReader variable stores the number of pages in the PDF document?\n",
    "\n",
    "Ans numpages attributes"
   ]
  },
  {
   "cell_type": "markdown",
   "id": "ddbc84cc",
   "metadata": {},
   "source": [
    "QUes4 what method do you use to rotate the page ?\n",
    "\n",
    "Ans \"Ctrl+Shift+L\" keys or \"Ctrl+Shift+R\" keys"
   ]
  },
  {
   "cell_type": "markdown",
   "id": "c7018d9a",
   "metadata": {},
   "source": [
    "Ques5 What is the difference between a Run object and a Paragraph object?\n",
    "\n",
    "Ans Each Paragraph object also has a runs attribute that is a list of Run objects."
   ]
  },
  {
   "cell_type": "markdown",
   "id": "0e40db21",
   "metadata": {},
   "source": [
    "QUes6. How do you obtain a list of Paragraph objects for a Document object that’s stored in a variable\n",
    "named doc?\n",
    "\n",
    "Ans"
   ]
  },
  {
   "cell_type": "markdown",
   "id": "202ace95",
   "metadata": {},
   "source": [
    "QUes7 What type of object has bold, underline, italic, strike, and outline variables?\n",
    "\n",
    "ANs run object has bold, underline, italic, strike, and outline variables"
   ]
  },
  {
   "cell_type": "markdown",
   "id": "02c8e342",
   "metadata": {},
   "source": [
    "Ques8 Q. What is the difference between False, True, and None for the bold variable?\n",
    "\n",
    "\n",
    "Ans.\n",
    "\n",
    "Runs can be further styled using text attributes. Each attribute can be set to one of three values:\n",
    "True (the attribute is always enabled, no matter what other styles are applied to the run),\n",
    "False (the attribute is always disabled),\n",
    "None (defaults to whatever the run’s style is set to)\n",
    "\n",
    "True always makes the Run object bolded and False makes it always not bolded, no matter what the style’s bold setting is. None will make the Run object just use the style’s bold setting\n",
    "\n"
   ]
  },
  {
   "cell_type": "markdown",
   "id": "6bf74edb",
   "metadata": {},
   "source": [
    "Ques9  How do you create a Document object for a new Word document?\n",
    "\n",
    "Ans. By Calling the docx.Document() function.\n"
   ]
  },
  {
   "cell_type": "code",
   "execution_count": null,
   "id": "3d6cbd05",
   "metadata": {},
   "outputs": [],
   "source": [
    "Ques1"
   ]
  }
 ],
 "metadata": {
  "kernelspec": {
   "display_name": "Python 3 (ipykernel)",
   "language": "python",
   "name": "python3"
  },
  "language_info": {
   "codemirror_mode": {
    "name": "ipython",
    "version": 3
   },
   "file_extension": ".py",
   "mimetype": "text/x-python",
   "name": "python",
   "nbconvert_exporter": "python",
   "pygments_lexer": "ipython3",
   "version": "3.9.7"
  }
 },
 "nbformat": 4,
 "nbformat_minor": 5
}
