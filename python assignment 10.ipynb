{
 "cells": [
  {
   "cell_type": "markdown",
   "id": "ecb7f04e",
   "metadata": {},
   "source": [
    "QUes1 1. How do you distinguish between shutil.copy() and shutil.copytree()?\n",
    "\n",
    "Ans shutil. copy() will copy a single file, shutil. copytree() will copy an entire folder and every folder and file contained in it."
   ]
  },
  {
   "cell_type": "markdown",
   "id": "235f12d8",
   "metadata": {},
   "source": [
    "Ques2 What function is used to rename files?\n",
    "\n",
    "Ans shutill.move()"
   ]
  },
  {
   "cell_type": "markdown",
   "id": "150f213a",
   "metadata": {},
   "source": [
    "Ques3 What is the difference between the delete functions in the send2trash and shutil modules?\n",
    "\n",
    "Ans send2trash send the file to recycle bin but shutill module delete permanently  "
   ]
  },
  {
   "cell_type": "markdown",
   "id": "1903f0ea",
   "metadata": {},
   "source": [
    "Ques4 4.ZipFile objects have a close() method just like File objects’ close() method. What ZipFile method is\n",
    "equivalent to File objects’ open() method?\n",
    "\n",
    "ANs The zipfile.ZipFile() function is equivalent to the open() function; the first argument is the filename, and the second argument is the mode to open the ZIP file in (read, write, or append)."
   ]
  },
  {
   "cell_type": "markdown",
   "id": "8d19ae8e",
   "metadata": {},
   "source": [
    "Ques5 Create a programme that searches a folder tree for files with a certain file extension (such as .pdf\n",
    "or .jpg). Copy these files from whatever location they are in to a new folder."
   ]
  },
  {
   "cell_type": "code",
   "execution_count": null,
   "id": "708c208b",
   "metadata": {},
   "outputs": [],
   "source": []
  }
 ],
 "metadata": {
  "kernelspec": {
   "display_name": "Python 3 (ipykernel)",
   "language": "python",
   "name": "python3"
  },
  "language_info": {
   "codemirror_mode": {
    "name": "ipython",
    "version": 3
   },
   "file_extension": ".py",
   "mimetype": "text/x-python",
   "name": "python",
   "nbconvert_exporter": "python",
   "pygments_lexer": "ipython3",
   "version": "3.9.7"
  }
 },
 "nbformat": 4,
 "nbformat_minor": 5
}
