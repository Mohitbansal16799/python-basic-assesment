{
 "cells": [
  {
   "cell_type": "markdown",
   "id": "95a8f548",
   "metadata": {},
   "source": [
    "Q. Make a class called Thing with no contents and print it. Then, create an object called example from this class and also print it. Are the printed values the same or different?"
   ]
  },
  {
   "cell_type": "code",
   "execution_count": 1,
   "id": "be777daa",
   "metadata": {},
   "outputs": [],
   "source": [
    "class thing:\n",
    "    pass"
   ]
  },
  {
   "cell_type": "code",
   "execution_count": 2,
   "id": "bd8a028f",
   "metadata": {},
   "outputs": [
    {
     "name": "stdout",
     "output_type": "stream",
     "text": [
      "<class '__main__.thing'>\n"
     ]
    }
   ],
   "source": [
    "print(thing)"
   ]
  },
  {
   "cell_type": "code",
   "execution_count": 3,
   "id": "75eb22b3",
   "metadata": {},
   "outputs": [],
   "source": [
    "example = thing()"
   ]
  },
  {
   "cell_type": "code",
   "execution_count": 4,
   "id": "acf31e03",
   "metadata": {},
   "outputs": [
    {
     "name": "stdout",
     "output_type": "stream",
     "text": [
      "<__main__.thing object at 0x000002519023F040>\n"
     ]
    }
   ],
   "source": [
    "print(example)"
   ]
  },
  {
   "cell_type": "code",
   "execution_count": 5,
   "id": "3f1628da",
   "metadata": {},
   "outputs": [],
   "source": [
    "# they printed different values"
   ]
  },
  {
   "cell_type": "markdown",
   "id": "7d0ddb3b",
   "metadata": {},
   "source": [
    "Q. Create a new class called Thing2 and add the value 'abc' to the letters class attribute. Letters should be printed.\n",
    "\n"
   ]
  },
  {
   "cell_type": "code",
   "execution_count": 11,
   "id": "c1f59216",
   "metadata": {},
   "outputs": [],
   "source": [
    "class thing2:\n",
    "    letters = \"abc\""
   ]
  },
  {
   "cell_type": "code",
   "execution_count": 13,
   "id": "24d8fa26",
   "metadata": {},
   "outputs": [
    {
     "data": {
      "text/plain": [
       "'abc'"
      ]
     },
     "execution_count": 13,
     "metadata": {},
     "output_type": "execute_result"
    }
   ],
   "source": [
    "thing2.letters"
   ]
  },
  {
   "cell_type": "markdown",
   "id": "3ebf80f7",
   "metadata": {},
   "source": [
    "Q. Make yet another class called, of course, Thing3. This time, assign the value 'xyz' to an instance (object) attribute called letters. Print letters. Do you need to make an object from the class to do this?"
   ]
  },
  {
   "cell_type": "code",
   "execution_count": 16,
   "id": "b7224fce",
   "metadata": {},
   "outputs": [],
   "source": [
    "class thing3:\n",
    "    def __init__(self,letter):\n",
    "        self.letter = letter\n",
    "letters = thing3(\"xyz\")"
   ]
  },
  {
   "cell_type": "code",
   "execution_count": 17,
   "id": "b5bb82e9",
   "metadata": {},
   "outputs": [
    {
     "data": {
      "text/plain": [
       "'xyz'"
      ]
     },
     "execution_count": 17,
     "metadata": {},
     "output_type": "execute_result"
    }
   ],
   "source": [
    "letters.letter"
   ]
  },
  {
   "cell_type": "markdown",
   "id": "7d425030",
   "metadata": {},
   "source": [
    "Q. Create an Element class with the instance attributes name, symbol, and number. Create a class object with the values 'Hydrogen','H' and 1."
   ]
  },
  {
   "cell_type": "code",
   "execution_count": 20,
   "id": "08de9999",
   "metadata": {},
   "outputs": [],
   "source": [
    "class Element:\n",
    "    def __init__(self,name,symbol,number):\n",
    "        self.name = name\n",
    "        self.symbol = symbol\n",
    "        self.number = 1\n",
    "mohit = Element(\"Hydrogen\",\"H\",\"1\")"
   ]
  },
  {
   "cell_type": "code",
   "execution_count": 21,
   "id": "c4d995ea",
   "metadata": {},
   "outputs": [
    {
     "data": {
      "text/plain": [
       "'Hydrogen'"
      ]
     },
     "execution_count": 21,
     "metadata": {},
     "output_type": "execute_result"
    }
   ],
   "source": [
    "mohit.name"
   ]
  },
  {
   "cell_type": "markdown",
   "id": "4537d9d4",
   "metadata": {},
   "source": [
    "Q. Make a dictionary with these keys and values: 'name' 'Hydrogen' 'symbol' 'H', 'number' 1. Then,create an object called hydrogen from class Element using this dictionary."
   ]
  },
  {
   "cell_type": "code",
   "execution_count": 22,
   "id": "e9b2210a",
   "metadata": {},
   "outputs": [
    {
     "data": {
      "text/plain": [
       "'H'"
      ]
     },
     "execution_count": 22,
     "metadata": {},
     "output_type": "execute_result"
    }
   ],
   "source": [
    "dict = {'name':'Hydrogen', 'symbol':'H','number': 1}\n",
    "hydrogen = Element(**dict) # using dictionary unpacking **\n",
    "hydrogen.symbol"
   ]
  },
  {
   "cell_type": "markdown",
   "id": "503d7a38",
   "metadata": {},
   "source": [
    "Q. For the Element class, define a method called dump() that prints the values of the object’s attributes (name, symbol, and number). Create the hydrogen object from this new definition and use dump() to print its attributes."
   ]
  },
  {
   "cell_type": "code",
   "execution_count": 23,
   "id": "318dcaea",
   "metadata": {},
   "outputs": [
    {
     "name": "stdout",
     "output_type": "stream",
     "text": [
      "Hydrogen H 1\n"
     ]
    }
   ],
   "source": [
    "class Element:\n",
    "    def __init__(self,name,symbol,number):\n",
    "        self.name = name\n",
    "        self.symbol = symbol\n",
    "        self.number = number\n",
    "    def dump(self):\n",
    "        print(self.name,self.symbol,self.number)\n",
    "hydrogen = Element('Hydrogen','H',1)\n",
    "hydrogen.dump()"
   ]
  },
  {
   "cell_type": "markdown",
   "id": "af0f4fd0",
   "metadata": {},
   "source": [
    " Modify Element to make the attributes name, symbol, and number private. Define a getter property for each to return its value"
   ]
  },
  {
   "cell_type": "code",
   "execution_count": 26,
   "id": "3af8fb01",
   "metadata": {},
   "outputs": [],
   "source": [
    "class Element:\n",
    "    def __init__(self,name,symbol,number):\n",
    "        self.__name = name\n",
    "        self.__symbol = symbol\n",
    "        self.__number = number\n",
    "    @property\n",
    "    def name(self):\n",
    "        return (self.__name)\n",
    "    @property\n",
    "    def symbol(self):\n",
    "        return (self.__symbol)\n",
    "    @property\n",
    "    def number(self):\n",
    "        return (self.__number)\n"
   ]
  },
  {
   "cell_type": "code",
   "execution_count": 27,
   "id": "3330d2d2",
   "metadata": {},
   "outputs": [
    {
     "data": {
      "text/plain": [
       "'Hydrogen'"
      ]
     },
     "execution_count": 27,
     "metadata": {},
     "output_type": "execute_result"
    }
   ],
   "source": [
    "hydrogen = Element('Hydrogen','H',1)\n",
    "hydrogen.name"
   ]
  },
  {
   "cell_type": "code",
   "execution_count": 29,
   "id": "ae933a45",
   "metadata": {},
   "outputs": [],
   "source": [
    "#Q. Define three classes: Bear, Rabbit, and Octothorpe. For each, define only one method: eats(). This should return 'berries' (Bear), 'clover' (Rabbit), or 'campers' (Octothorpe). Create one object from each and print what it eats.¶\n",
    "\n",
    "class Bear:\n",
    "    def eats():\n",
    "        print('berries')\n",
    "\n",
    "class Rabbit:\n",
    "    def eats():\n",
    "        print('clover')\n",
    "\n",
    "class Octothorpe:\n",
    "    def eats():\n",
    "        print(\"campers\")"
   ]
  },
  {
   "cell_type": "code",
   "execution_count": 31,
   "id": "2c2c0b50",
   "metadata": {},
   "outputs": [
    {
     "name": "stdout",
     "output_type": "stream",
     "text": [
      "berries\n"
     ]
    }
   ],
   "source": [
    "Bear.eats()"
   ]
  },
  {
   "cell_type": "code",
   "execution_count": null,
   "id": "c39ef18c",
   "metadata": {},
   "outputs": [],
   "source": []
  }
 ],
 "metadata": {
  "kernelspec": {
   "display_name": "Python 3 (ipykernel)",
   "language": "python",
   "name": "python3"
  },
  "language_info": {
   "codemirror_mode": {
    "name": "ipython",
    "version": 3
   },
   "file_extension": ".py",
   "mimetype": "text/x-python",
   "name": "python",
   "nbconvert_exporter": "python",
   "pygments_lexer": "ipython3",
   "version": "3.9.7"
  }
 },
 "nbformat": 4,
 "nbformat_minor": 5
}
