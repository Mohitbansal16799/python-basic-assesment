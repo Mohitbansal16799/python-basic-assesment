{
 "cells": [
  {
   "cell_type": "markdown",
   "id": "7b47a7ed",
   "metadata": {},
   "source": [
    "Q. What is the result of the code, and explain?\n",
    " \n",
    " X = 'iNeuron'\n",
    " \n",
    " def func(): print(X)\n",
    "\n",
    " func()"
   ]
  },
  {
   "cell_type": "code",
   "execution_count": 1,
   "id": "13023d77",
   "metadata": {},
   "outputs": [
    {
     "name": "stdout",
     "output_type": "stream",
     "text": [
      "iNeuron\n"
     ]
    }
   ],
   "source": [
    "X = 'iNeuron'\n",
    "def func():\n",
    "    print(X)\n",
    "func()\n",
    "\n",
    "#Ans. The global variables are accessible in side the functions in python. \n",
    "#But we can not access function variable out side function. \n",
    "#Since x is global variable we are able to print it in side the function solution : 'iNeuron'"
   ]
  },
  {
   "cell_type": "markdown",
   "id": "832968f0",
   "metadata": {},
   "source": [
    "Q. What is the result of the code, and explain?\n",
    "\n",
    "X = 'iNeuron' \n",
    "def func(): X = 'NI!'\n",
    "\n",
    "func()\n",
    "print(X)"
   ]
  },
  {
   "cell_type": "code",
   "execution_count": 2,
   "id": "9c3d08ab",
   "metadata": {},
   "outputs": [
    {
     "name": "stdout",
     "output_type": "stream",
     "text": [
      "iNeuron\n"
     ]
    }
   ],
   "source": [
    "X = 'iNeuron'\n",
    "def func():\n",
    "    X = 'NI!'\n",
    "\n",
    "func()\n",
    "print(X)\n",
    "\n",
    "#Ans. The global variables are access in side the functions in python. But we can not access function variable out side function.\n",
    "# Since x is golbal variable we are able to print it out side of the function solution = 'iNeuron'"
   ]
  },
  {
   "cell_type": "markdown",
   "id": "0b3f9671",
   "metadata": {},
   "source": [
    "Q. What does this code print, and why?\n",
    " \n",
    " X = 'iNeuron'  def func(): X = 'NI' print(X)\n",
    "\n",
    " func() print(X)"
   ]
  },
  {
   "cell_type": "code",
   "execution_count": 3,
   "id": "156a782d",
   "metadata": {},
   "outputs": [
    {
     "name": "stdout",
     "output_type": "stream",
     "text": [
      "NI!\n",
      "iNeuron\n"
     ]
    }
   ],
   "source": [
    "X = 'iNeuron'\n",
    "def func():\n",
    "    X = 'NI!'\n",
    "    print(X)\n",
    "\n",
    "func()\n",
    "print(X)\n",
    "\n",
    "#Ans. The global variables are access in side the functions in python. But we can not access function variable out side function.\n",
    "# X is updated with 'NI' which is local to function and its immutable. its name space is with in the function solution = 'NI!', 'iNeuron'"
   ]
  },
  {
   "cell_type": "markdown",
   "id": "d8c1e708",
   "metadata": {},
   "source": [
    "Q. What output does this code produce? Why?\n",
    "\n",
    "X = 'iNeuron'  def func(): global X X = 'NI'\n",
    "\n",
    " func()  print(X)"
   ]
  },
  {
   "cell_type": "code",
   "execution_count": 6,
   "id": "0bbd8a0c",
   "metadata": {},
   "outputs": [
    {
     "name": "stdout",
     "output_type": "stream",
     "text": [
      "NI!\n",
      "NI!\n"
     ]
    }
   ],
   "source": [
    "X = 'iNeuron'\n",
    "def func():\n",
    "    global X\n",
    "    X = 'NI!'\n",
    "    print(X)\n",
    "\n",
    "func()\n",
    "print(X)\n",
    "#Ans. since the X in side function is made Global, it will be accesible out side of the function too. \n",
    "#now X will have new value."
   ]
  },
  {
   "cell_type": "markdown",
   "id": "3bd7f069",
   "metadata": {},
   "source": [
    "Q Q. What about this code—what’s the output, and why?\n",
    "\n",
    " X = 'iNeuron'  def func(): X = 'NI' def nested(): print(X) nested()\n",
    "\n",
    " func()  X"
   ]
  },
  {
   "cell_type": "code",
   "execution_count": 7,
   "id": "08a533b4",
   "metadata": {},
   "outputs": [
    {
     "name": "stdout",
     "output_type": "stream",
     "text": [
      "iNeuron\n"
     ]
    },
    {
     "data": {
      "text/plain": [
       "'iNeuron'"
      ]
     },
     "execution_count": 7,
     "metadata": {},
     "output_type": "execute_result"
    }
   ],
   "source": [
    "X = 'iNeuron'\n",
    "def func():\n",
    "    X = 'NI'\n",
    "def nested():\n",
    "    print(X)\n",
    "    \n",
    "nested()\n",
    "func()\n",
    "X\n",
    "\n",
    "#Ans. the nested() function will print 'iNeuron', Then func() does not display anything,\n",
    "# and x ='NI' is not accessible out \n",
    "#side the function."
   ]
  },
  {
   "cell_type": "markdown",
   "id": "c03cf85d",
   "metadata": {},
   "source": [
    "Q. How about this code: what is its output in Python 3, and explain?\n",
    "\n",
    " def func(): X = 'NI' def nested(): nonlocal X X = 'Spam' nested() print(X)\n",
    "\n",
    "func()"
   ]
  },
  {
   "cell_type": "code",
   "execution_count": 8,
   "id": "ac6c7e69",
   "metadata": {},
   "outputs": [
    {
     "name": "stdout",
     "output_type": "stream",
     "text": [
      "spam\n"
     ]
    }
   ],
   "source": [
    "def func():\n",
    "    X = 'NI'\n",
    "    def nested():\n",
    "        nonlocal X\n",
    "        X = 'spam'\n",
    "    nested()\n",
    "    print(X)\n",
    "\n",
    "func()\n",
    "\n",
    "#Nonlocal variables are used in nested functions whose local scope is not defined. \n",
    "#This means that the variable can be neither in the local nor the global scope. it print the updated value from nested \n",
    "#function\n"
   ]
  },
  {
   "cell_type": "code",
   "execution_count": null,
   "id": "979f9ad5",
   "metadata": {},
   "outputs": [],
   "source": []
  }
 ],
 "metadata": {
  "kernelspec": {
   "display_name": "Python 3 (ipykernel)",
   "language": "python",
   "name": "python3"
  },
  "language_info": {
   "codemirror_mode": {
    "name": "ipython",
    "version": 3
   },
   "file_extension": ".py",
   "mimetype": "text/x-python",
   "name": "python",
   "nbconvert_exporter": "python",
   "pygments_lexer": "ipython3",
   "version": "3.9.7"
  }
 },
 "nbformat": 4,
 "nbformat_minor": 5
}
