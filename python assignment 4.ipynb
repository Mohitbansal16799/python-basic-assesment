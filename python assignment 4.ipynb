{
 "cells": [
  {
   "cell_type": "markdown",
   "id": "de2af19b",
   "metadata": {},
   "source": [
    "Q1 What exactly is []?"
   ]
  },
  {
   "cell_type": "markdown",
   "id": "fed4c4df",
   "metadata": {},
   "source": [
    "Ans. The empty lis values,which is a list value that contain zero item "
   ]
  },
  {
   "cell_type": "markdown",
   "id": "4726e620",
   "metadata": {},
   "source": [
    "Q2 In a list of values stored in a variable called spam, how would you assign the value \"hello\" as the\n",
    "third value? (Assume [2, 4, 6, 8, 10] are in spam.)"
   ]
  },
  {
   "cell_type": "code",
   "execution_count": 4,
   "id": "37296975",
   "metadata": {},
   "outputs": [],
   "source": [
    "#Ans.\n",
    "spam = [1,2,3,4,5] \n",
    "spam[2] = \"hello\""
   ]
  },
  {
   "cell_type": "code",
   "execution_count": 5,
   "id": "4e37b280",
   "metadata": {},
   "outputs": [
    {
     "data": {
      "text/plain": [
       "[1, 2, 'hello', 4, 5]"
      ]
     },
     "execution_count": 5,
     "metadata": {},
     "output_type": "execute_result"
    }
   ],
   "source": [
    "spam"
   ]
  },
  {
   "cell_type": "markdown",
   "id": "68d36db9",
   "metadata": {},
   "source": [
    "Q3 spam = [\"a\",\"b\",\"c\",\"d\"]\n",
    "   what is the value of spam[int(int(3*2)/11)]?"
   ]
  },
  {
   "cell_type": "code",
   "execution_count": 6,
   "id": "1c11577a",
   "metadata": {},
   "outputs": [
    {
     "data": {
      "text/plain": [
       "'a'"
      ]
     },
     "execution_count": 6,
     "metadata": {},
     "output_type": "execute_result"
    }
   ],
   "source": [
    "spam = [\"a\",\"b\",\"c\",\"d\"] \n",
    "spam[int(int(3*2)/11)]"
   ]
  },
  {
   "cell_type": "markdown",
   "id": "3c8d73f9",
   "metadata": {},
   "source": [
    "Q4. what is the value of spam?"
   ]
  },
  {
   "cell_type": "code",
   "execution_count": 10,
   "id": "cb6920a7",
   "metadata": {},
   "outputs": [
    {
     "data": {
      "text/plain": [
       "'d'"
      ]
     },
     "execution_count": 10,
     "metadata": {},
     "output_type": "execute_result"
    }
   ],
   "source": [
    "spam[-1]"
   ]
  },
  {
   "cell_type": "markdown",
   "id": "586a7003",
   "metadata": {},
   "source": [
    "Q5.what is the value of spam[:2]?"
   ]
  },
  {
   "cell_type": "code",
   "execution_count": 11,
   "id": "0cf77d67",
   "metadata": {},
   "outputs": [
    {
     "data": {
      "text/plain": [
       "['a', 'b']"
      ]
     },
     "execution_count": 11,
     "metadata": {},
     "output_type": "execute_result"
    }
   ],
   "source": [
    "spam[:2]"
   ]
  },
  {
   "cell_type": "markdown",
   "id": "b735b346",
   "metadata": {},
   "source": [
    "Q6.what is the value of bacon.index(\"cat\")?"
   ]
  },
  {
   "cell_type": "code",
   "execution_count": 12,
   "id": "6f9d6abe",
   "metadata": {},
   "outputs": [
    {
     "data": {
      "text/plain": [
       "1"
      ]
     },
     "execution_count": 12,
     "metadata": {},
     "output_type": "execute_result"
    }
   ],
   "source": [
    "bacon = [3.14,\"cat\",11,\"cat\",True]\n",
    "bacon.index(\"cat\")"
   ]
  },
  {
   "cell_type": "markdown",
   "id": "9d5a4cf5",
   "metadata": {},
   "source": [
    "Q7.How does bacon.append(99) change the look of the list value in bacon?"
   ]
  },
  {
   "cell_type": "code",
   "execution_count": 13,
   "id": "ea533dba",
   "metadata": {},
   "outputs": [],
   "source": [
    "bacon.append(99)"
   ]
  },
  {
   "cell_type": "code",
   "execution_count": 14,
   "id": "1ffaac88",
   "metadata": {},
   "outputs": [
    {
     "data": {
      "text/plain": [
       "[3.14, 'cat', 11, 'cat', True, 99]"
      ]
     },
     "execution_count": 14,
     "metadata": {},
     "output_type": "execute_result"
    }
   ],
   "source": [
    "bacon"
   ]
  },
  {
   "cell_type": "markdown",
   "id": "7ee9fc8f",
   "metadata": {},
   "source": [
    "Q8.How does bacon.remove(\"cat\") change the look of the list in bacon?"
   ]
  },
  {
   "cell_type": "code",
   "execution_count": 15,
   "id": "b27ab372",
   "metadata": {},
   "outputs": [],
   "source": [
    "bacon.remove(\"cat\")"
   ]
  },
  {
   "cell_type": "code",
   "execution_count": 16,
   "id": "4a6bfb74",
   "metadata": {},
   "outputs": [
    {
     "data": {
      "text/plain": [
       "[3.14, 11, 'cat', True, 99]"
      ]
     },
     "execution_count": 16,
     "metadata": {},
     "output_type": "execute_result"
    }
   ],
   "source": [
    "bacon"
   ]
  },
  {
   "cell_type": "markdown",
   "id": "260bf884",
   "metadata": {},
   "source": [
    "Q9.What are the list concatenation and list replication operators?"
   ]
  },
  {
   "cell_type": "markdown",
   "id": "36669e2e",
   "metadata": {},
   "source": [
    "Ans. The operator for list concatenation is +, while the operator for replication is *."
   ]
  },
  {
   "cell_type": "markdown",
   "id": "173b79e2",
   "metadata": {},
   "source": [
    "Q10 difference between list method append and insert?"
   ]
  },
  {
   "cell_type": "markdown",
   "id": "06b8e500",
   "metadata": {},
   "source": [
    "Ans. insert function allows us to add a specific element at a specified index of the list unlike append() where we can add the element only at end of the list"
   ]
  },
  {
   "cell_type": "markdown",
   "id": "128171bf",
   "metadata": {},
   "source": [
    "Q11.What are the two methods for removing items from a list?"
   ]
  },
  {
   "cell_type": "markdown",
   "id": "3a00718f",
   "metadata": {},
   "source": [
    "Ans. list.remove(),list.pop()"
   ]
  },
  {
   "cell_type": "markdown",
   "id": "428fb280",
   "metadata": {},
   "source": [
    "Q12 Describe how list values and string values are identical."
   ]
  },
  {
   "cell_type": "markdown",
   "id": "23a8ba98",
   "metadata": {},
   "source": [
    "both are in sequences"
   ]
  },
  {
   "cell_type": "markdown",
   "id": "e7054cc1",
   "metadata": {},
   "source": [
    "Q13 Difference between tuple and list?"
   ]
  },
  {
   "cell_type": "markdown",
   "id": "e51f397a",
   "metadata": {},
   "source": [
    "List is a collection which is ordered and changeable. Allows duplicate members.\n",
    "Tuple is a collection which is ordered and unchangeable. Allows duplicate members."
   ]
  },
  {
   "cell_type": "markdown",
   "id": "829b9ea9",
   "metadata": {},
   "source": [
    "Q14 How do you type a tuple value that only contains the integer 42?"
   ]
  },
  {
   "cell_type": "markdown",
   "id": "dbae7205",
   "metadata": {},
   "source": [
    "Ans. tuple = (42,)"
   ]
  },
  {
   "cell_type": "markdown",
   "id": "eb029296",
   "metadata": {},
   "source": [
    "Q15 How do you get a list value's tuple form? How do you get a tuple value's list form?"
   ]
  },
  {
   "cell_type": "code",
   "execution_count": 28,
   "id": "82b8427b",
   "metadata": {},
   "outputs": [
    {
     "data": {
      "text/plain": [
       "[1, 2, 3, 6, 5]"
      ]
     },
     "execution_count": 28,
     "metadata": {},
     "output_type": "execute_result"
    }
   ],
   "source": [
    "#tuple to list\n",
    "a = (1,2,3,6,5)\n",
    "a = list(a)\n",
    "a"
   ]
  },
  {
   "cell_type": "code",
   "execution_count": 29,
   "id": "b993203b",
   "metadata": {},
   "outputs": [
    {
     "data": {
      "text/plain": [
       "(1, 2, 3, 4, 5)"
      ]
     },
     "execution_count": 29,
     "metadata": {},
     "output_type": "execute_result"
    }
   ],
   "source": [
    "#list to tuple\n",
    "a = [1,2,3,4,5]\n",
    "a = tuple(a)\n",
    "a"
   ]
  },
  {
   "cell_type": "markdown",
   "id": "2740a310",
   "metadata": {},
   "source": [
    "Q16.Variables that \"contain\" list values are not necessarily lists themselves. Instead, what do they\n",
    "contain?"
   ]
  },
  {
   "cell_type": "code",
   "execution_count": null,
   "id": "0bb3173c",
   "metadata": {},
   "outputs": [],
   "source": [
    "Ans. "
   ]
  },
  {
   "cell_type": "markdown",
   "id": "cd931b7f",
   "metadata": {},
   "source": [
    "Q17 How do you distinguish between copy.copy() and copy.deepcopy()?"
   ]
  },
  {
   "cell_type": "markdown",
   "id": "067bff7c",
   "metadata": {},
   "source": [
    "Ans. copy() create reference to original object. If you change copied object - you change the original object. . deepcopy() creates new object and does real copying of original object to new one."
   ]
  },
  {
   "cell_type": "markdown",
   "id": "59f9c9b0",
   "metadata": {},
   "source": [
    "above condition is only applied in nested list not in normal list "
   ]
  },
  {
   "cell_type": "code",
   "execution_count": null,
   "id": "fa633dac",
   "metadata": {},
   "outputs": [],
   "source": []
  }
 ],
 "metadata": {
  "kernelspec": {
   "display_name": "Python 3 (ipykernel)",
   "language": "python",
   "name": "python3"
  },
  "language_info": {
   "codemirror_mode": {
    "name": "ipython",
    "version": 3
   },
   "file_extension": ".py",
   "mimetype": "text/x-python",
   "name": "python",
   "nbconvert_exporter": "python",
   "pygments_lexer": "ipython3",
   "version": "3.9.7"
  }
 },
 "nbformat": 4,
 "nbformat_minor": 5
}
