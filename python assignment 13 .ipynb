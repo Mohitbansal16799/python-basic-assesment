{
 "cells": [
  {
   "cell_type": "markdown",
   "id": "a4f1fe44",
   "metadata": {},
   "source": [
    "Ques1 What advantages do Excel spreadsheets have over CSV spreadsheets?\n",
    "\n",
    "Ans Excel is more superior when compared with the CSV file format.CSV file is plain text format which seprate values by comas but excel has bothcontent and formating . Excel also allows the user the add-in feature."
   ]
  },
  {
   "cell_type": "markdown",
   "id": "4960d3ea",
   "metadata": {},
   "source": [
    "Ques2 2.What do you pass to csv.reader() and csv.writer() to create reader and writer objects?\n",
    "\n",
    "Ans The csv. writer() function returns a writer object that converts the user's data into a delimited string.\n",
    "\n",
    "the csv. reader method returns a reader object which iterates over lines in the given CSV file"
   ]
  },
  {
   "cell_type": "markdown",
   "id": "6bbb5df5",
   "metadata": {},
   "source": [
    "Ques3 What modes do File objects for reader and writer objects need to be opened in?\n",
    "\n",
    "Ans r+ mode "
   ]
  },
  {
   "cell_type": "markdown",
   "id": "b9b3ddf4",
   "metadata": {},
   "source": [
    "Ques4 What method takes a list argument and writes it to a CSV file?\n",
    "\n",
    "Ans writerows()"
   ]
  },
  {
   "cell_type": "markdown",
   "id": "b15ea141",
   "metadata": {},
   "source": [
    "Ques5 What do the keyword arguments delimiter and line terminator do?\n",
    "\n",
    "ANsThe delimiter is the character that appears between cells on a row. By default, the delimiter for a CSV file is a comma. The line terminator is the character that comes at the end of a row. By default, the line terminator is a newline"
   ]
  },
  {
   "cell_type": "markdown",
   "id": "f3601ccd",
   "metadata": {},
   "source": [
    "Ques6 What function takes a string of JSON data and returns a Python data structure?\n",
    "\n",
    "Ans loads"
   ]
  },
  {
   "cell_type": "code",
   "execution_count": null,
   "id": "990692fe",
   "metadata": {},
   "outputs": [],
   "source": [
    "Ques7 What function takes a Python data structure and returns a string of JSON data?\n",
    "\n",
    "Ans "
   ]
  }
 ],
 "metadata": {
  "kernelspec": {
   "display_name": "Python 3 (ipykernel)",
   "language": "python",
   "name": "python3"
  },
  "language_info": {
   "codemirror_mode": {
    "name": "ipython",
    "version": 3
   },
   "file_extension": ".py",
   "mimetype": "text/x-python",
   "name": "python",
   "nbconvert_exporter": "python",
   "pygments_lexer": "ipython3",
   "version": "3.9.7"
  }
 },
 "nbformat": 4,
 "nbformat_minor": 5
}
