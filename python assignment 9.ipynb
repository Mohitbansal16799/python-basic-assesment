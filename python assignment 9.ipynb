{
 "cells": [
  {
   "cell_type": "markdown",
   "id": "f1ea87e3",
   "metadata": {},
   "source": [
    "Ques1 To what does a relative path refer?\n",
    "\n",
    "Ans A relative path refers to a location that is relative to a current directory. Relative paths make use of two special symbols, a dot (.) and a double-dot (..), which translate into the current directory and the parent directory. Double dots are used for moving up in the hierarchy."
   ]
  },
  {
   "cell_type": "markdown",
   "id": "4e3f61c4",
   "metadata": {},
   "source": [
    "Ques2 What does an absolute path start with your operating system?\n",
    "\n",
    "Ans C:\\Users\\mohit"
   ]
  },
  {
   "cell_type": "markdown",
   "id": "8e9e4b0a",
   "metadata": {},
   "source": [
    "Ques3 What do the functions os.getcwd() and os.chdir() do?\n",
    "\n",
    "Ans os.getcwd() = to know curring working directory\n",
    "    os.chdir() = to change in current working directory \n",
    "    "
   ]
  },
  {
   "cell_type": "markdown",
   "id": "e62b7650",
   "metadata": {},
   "source": [
    "Ques4 What are the . and .. folders??\n",
    "\n",
    "Ans (.) single dot use in current directory in hirarchy or child file . it is related to relative path.\n",
    "    (..) double dot help in moving up in hirachy or parent file. it is related to relative path"
   ]
  },
  {
   "cell_type": "markdown",
   "id": "9678755c",
   "metadata": {},
   "source": [
    "Ques5 In C:\\bacon\\eggs\\spam.txt, which part is the dir name, and which part is the base name?\n",
    "    \n",
    "Ans. directory name - C:\\bacon\\eggs\\\n",
    "    base name - spam.txt"
   ]
  },
  {
   "cell_type": "markdown",
   "id": "96cd0c4c",
   "metadata": {},
   "source": [
    "Ques6 What are the three “mode” arguments that can be passed to the open() function?\n",
    "\n",
    "Ans read/readlines,write,append"
   ]
  },
  {
   "cell_type": "markdown",
   "id": "da461ca8",
   "metadata": {},
   "source": [
    "Ques7 What happens if an existing file is opened in write mode?\n",
    "\n",
    "Ans it overwrite the existing file and start from strach"
   ]
  },
  {
   "cell_type": "markdown",
   "id": "a62d86a2",
   "metadata": {},
   "source": [
    "Ques8 How do you tell the difference between read() and readlines()?\n",
    "\n",
    "Ans read() passes whole file as string \n",
    "    readlines() pases single line from file as string "
   ]
  },
  {
   "cell_type": "markdown",
   "id": "7af54b90",
   "metadata": {},
   "source": [
    "Ques9 What data structure does a shelf value resemble?\n",
    "\n",
    "Ans dictionary"
   ]
  },
  {
   "cell_type": "code",
   "execution_count": null,
   "id": "020affeb",
   "metadata": {},
   "outputs": [],
   "source": []
  }
 ],
 "metadata": {
  "kernelspec": {
   "display_name": "Python 3 (ipykernel)",
   "language": "python",
   "name": "python3"
  },
  "language_info": {
   "codemirror_mode": {
    "name": "ipython",
    "version": 3
   },
   "file_extension": ".py",
   "mimetype": "text/x-python",
   "name": "python",
   "nbconvert_exporter": "python",
   "pygments_lexer": "ipython3",
   "version": "3.9.7"
  }
 },
 "nbformat": 4,
 "nbformat_minor": 5
}
