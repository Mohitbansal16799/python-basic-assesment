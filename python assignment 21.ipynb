{
 "cells": [
  {
   "cell_type": "markdown",
   "id": "dcd92fcb",
   "metadata": {},
   "source": [
    "Q1 Q. Add the current date to the text file today.txt as a string."
   ]
  },
  {
   "cell_type": "code",
   "execution_count": 19,
   "id": "ff92a90e",
   "metadata": {},
   "outputs": [],
   "source": [
    "import datetime\n",
    "from datetime import date\n",
    "now = date.today()\n",
    "c_date = now.isoformat()\n"
   ]
  },
  {
   "cell_type": "code",
   "execution_count": 22,
   "id": "0c950ed8",
   "metadata": {},
   "outputs": [
    {
     "data": {
      "text/plain": [
       "'2022-08-23'"
      ]
     },
     "execution_count": 22,
     "metadata": {},
     "output_type": "execute_result"
    }
   ],
   "source": [
    "c_date"
   ]
  },
  {
   "cell_type": "code",
   "execution_count": 24,
   "id": "f1b19ff7",
   "metadata": {},
   "outputs": [],
   "source": [
    "with open (\"today.txt\",\"w\")as file:\n",
    "    file.write(c_date)"
   ]
  },
  {
   "cell_type": "markdown",
   "id": "352482ae",
   "metadata": {},
   "source": [
    "Q2 Read the text file today.txt into the string today_string"
   ]
  },
  {
   "cell_type": "code",
   "execution_count": 26,
   "id": "dc5bd477",
   "metadata": {},
   "outputs": [],
   "source": [
    "with open(\"today.txt\",\"r\") as file:\n",
    "    today_string = file.read()"
   ]
  },
  {
   "cell_type": "code",
   "execution_count": 27,
   "id": "fd850b53",
   "metadata": {},
   "outputs": [
    {
     "data": {
      "text/plain": [
       "'2022-08-23'"
      ]
     },
     "execution_count": 27,
     "metadata": {},
     "output_type": "execute_result"
    }
   ],
   "source": [
    "today_string"
   ]
  },
  {
   "cell_type": "markdown",
   "id": "92234795",
   "metadata": {},
   "source": [
    "Q3. Parse the date from today_string."
   ]
  },
  {
   "cell_type": "code",
   "execution_count": 28,
   "id": "65ff77e9",
   "metadata": {},
   "outputs": [
    {
     "data": {
      "text/plain": [
       "datetime.datetime(2022, 8, 23, 0, 0)"
      ]
     },
     "execution_count": 28,
     "metadata": {},
     "output_type": "execute_result"
    }
   ],
   "source": [
    "from datetime import datetime\n",
    "format = '%Y-%m-%d'\n",
    "datetime.strptime(today_string,format)"
   ]
  },
  {
   "cell_type": "markdown",
   "id": "eb338619",
   "metadata": {},
   "source": [
    "Q4. List the files in your current directory"
   ]
  },
  {
   "cell_type": "code",
   "execution_count": 33,
   "id": "a391a335",
   "metadata": {},
   "outputs": [
    {
     "data": {
      "text/plain": [
       "['.astropy',\n",
       " '.bash_history',\n",
       " '.conda',\n",
       " '.gitconfig',\n",
       " '.ipynb_checkpoints',\n",
       " '.ipython',\n",
       " '.jupyter',\n",
       " '.lesshst',\n",
       " '.matplotlib',\n",
       " '.vscode',\n",
       " '100pandaspuzzles.ipynb',\n",
       " '3D Objects',\n",
       " 'adult.csv',\n",
       " 'anaconda3',\n",
       " 'analysis.ipynb',\n",
       " 'AppData',\n",
       " 'Application Data',\n",
       " 'basic programming 1 assignment .ipynb',\n",
       " 'books.csv',\n",
       " 'books.db',\n",
       " 'business-financial-data-december-2021-quarter-csv.zip',\n",
       " 'business-operations-survey-2020-covid-19-csv.csv',\n",
       " 'Contacts',\n",
       " 'Cookies',\n",
       " 'CPI Data.xlsx',\n",
       " 'data analysis warmup exercise .ipynb',\n",
       " 'Data+Sets.rar',\n",
       " 'data_description.txt',\n",
       " 'Data_Train.xlsx',\n",
       " 'Delloite case study.ipynb',\n",
       " 'dict1.csv',\n",
       " 'dict1_indexFalse.csv',\n",
       " 'DLLs',\n",
       " 'Doc',\n",
       " 'Documents',\n",
       " 'Downloads',\n",
       " 'Ecommerce purchase project .ipynb',\n",
       " 'Ecommerce Purchases',\n",
       " 'Ecommerce Purchases.csv',\n",
       " 'EDA Part 1.ipynb',\n",
       " 'EDA projects .ipynb',\n",
       " 'EDA- Part 1 (1).ipynb',\n",
       " 'Exchange rate.xlsx',\n",
       " 'Exports Merchandise.xlsx',\n",
       " 'Favorites',\n",
       " 'FlightPrediction.ipynb',\n",
       " 'hotel_bookings.csv',\n",
       " 'House price EDA  & Feature engineering.ipynb',\n",
       " 'include',\n",
       " 'IRIS.csv',\n",
       " 'javolin project.ipynb',\n",
       " 'Lib',\n",
       " 'libs',\n",
       " 'LICENSE.txt',\n",
       " 'Links',\n",
       " 'Local Settings',\n",
       " 'matplotlib and seaborn visualization.ipynb',\n",
       " 'Music',\n",
       " 'My Documents',\n",
       " 'mySalaries.csv',\n",
       " 'nba.csv',\n",
       " 'NetHood',\n",
       " 'NEWS.txt',\n",
       " 'NTUSER.DAT',\n",
       " 'ntuser.dat.LOG1',\n",
       " 'ntuser.dat.LOG2',\n",
       " 'NTUSER.DAT{99f0112a-f095-11ec-9a4d-db3bc5d1794c}.TM.blf',\n",
       " 'NTUSER.DAT{99f0112a-f095-11ec-9a4d-db3bc5d1794c}.TMContainer00000000000000000001.regtrans-ms',\n",
       " 'NTUSER.DAT{99f0112a-f095-11ec-9a4d-db3bc5d1794c}.TMContainer00000000000000000002.regtrans-ms',\n",
       " 'ntuser.ini',\n",
       " 'numphy.ipynb',\n",
       " 'numphyclass1.ipynb',\n",
       " 'numpy practice.ipynb',\n",
       " 'numpy.ipynb',\n",
       " 'numpy100qn.ipynb',\n",
       " 'OneDrive',\n",
       " 'oops Atm project.ipynb',\n",
       " 'oops concept.ipynb',\n",
       " 'oops fraction project.ipynb',\n",
       " 'Pandas (1).ipynb',\n",
       " 'pandas 2  day.ipynb',\n",
       " 'pandas 4 sudhkumar .ipynb',\n",
       " 'pandas class 3 sudhkumar.ipynb',\n",
       " 'pandas class homework discussed .ipynb',\n",
       " 'pandas codewithHARRY.ipynb',\n",
       " 'pandas day 3.ipynb',\n",
       " 'Pandas-Data-Science-Tasks-master.zip',\n",
       " 'pandas_sudh_1.ipynb',\n",
       " 'pdf file reader.ipynb',\n",
       " 'Postman',\n",
       " 'practice python .ipynb',\n",
       " 'PrintHood',\n",
       " 'Project 1 Ecommerce dataset.ipynb',\n",
       " 'project 2  employees salary.ipynb',\n",
       " 'project 3.ipynb',\n",
       " 'project analyse though python.ipynb',\n",
       " 'PycharmProjects',\n",
       " 'python assignment 10.ipynb',\n",
       " 'python Assignment 11.ipynb',\n",
       " 'python assignment 12.ipynb',\n",
       " 'python assignment 13 .ipynb',\n",
       " 'python assignment 14.ipynb',\n",
       " 'Python assignment 15.ipynb',\n",
       " 'python assignment 16.ipynb',\n",
       " 'python assignment 17.ipynb',\n",
       " 'python assignment 18..ipynb',\n",
       " 'python assignment 18.ipynb',\n",
       " 'python assignment 19.ipynb',\n",
       " 'python assignment 20.ipynb',\n",
       " 'python assignment 21.ipynb',\n",
       " 'python assignment 4.ipynb',\n",
       " 'python assignment 5.ipynb',\n",
       " 'python assignment 7.ipynb',\n",
       " 'python assignment 8.ipynb',\n",
       " 'python assignment 9.ipynb',\n",
       " 'python oop project .ipynb',\n",
       " 'python practice .ipynb',\n",
       " 'python.exe',\n",
       " 'python3.dll',\n",
       " 'python310.dll',\n",
       " 'pythonw.exe',\n",
       " 'Recent',\n",
       " 'Salaries.csv',\n",
       " 'Sales_April_2019.csv',\n",
       " 'sample_submission.csv',\n",
       " 'Saved Games',\n",
       " 'Scripts',\n",
       " 'seaborn-data',\n",
       " 'Seaborn.ipynb',\n",
       " 'Searches',\n",
       " 'SendTo',\n",
       " 'share',\n",
       " 'Start Menu',\n",
       " 'Statisitcs practice.ipynb',\n",
       " 'survey_results_public.csv',\n",
       " 'survey_results_schema.csv',\n",
       " 'tcl',\n",
       " 'Templates',\n",
       " 'test.csv',\n",
       " 'Test_set.xlsx',\n",
       " 'text.csv',\n",
       " 'text.txt',\n",
       " 'today.txt',\n",
       " 'Tools',\n",
       " 'top500companies.csv',\n",
       " 'train.csv',\n",
       " 'Untitled.ipynb',\n",
       " 'Untitled1.ipynb',\n",
       " 'Untitled10.ipynb',\n",
       " 'Untitled11.ipynb',\n",
       " 'Untitled12.ipynb',\n",
       " 'Untitled13.ipynb',\n",
       " 'Untitled14.ipynb',\n",
       " 'Untitled15.ipynb',\n",
       " 'Untitled16.ipynb',\n",
       " 'Untitled17.ipynb',\n",
       " 'Untitled18.ipynb',\n",
       " 'Untitled19.ipynb',\n",
       " 'Untitled2.ipynb',\n",
       " 'Untitled20.ipynb',\n",
       " 'Untitled21.ipynb',\n",
       " 'Untitled22.ipynb',\n",
       " 'Untitled23.ipynb',\n",
       " 'Untitled24.ipynb',\n",
       " 'Untitled3.ipynb',\n",
       " 'Untitled4.ipynb',\n",
       " 'Untitled5.ipynb',\n",
       " 'Untitled6.ipynb',\n",
       " 'Untitled7.ipynb',\n",
       " 'Untitled8.ipynb',\n",
       " 'Untitled9.ipynb',\n",
       " 'US accident 2016-2020 data analysis.ipynb',\n",
       " 'US Accident data analysis.ipynb',\n",
       " 'US_Accidents_Dec21_updated.csv',\n",
       " 'vcruntime140.dll',\n",
       " 'vcruntime140_1.dll',\n",
       " 'Videos',\n",
       " 'webpage.html',\n",
       " 'webscraping project.ipynb',\n",
       " 'zoo.ipynb']"
      ]
     },
     "execution_count": 33,
     "metadata": {},
     "output_type": "execute_result"
    }
   ],
   "source": [
    "import os\n",
    "os.listdir()"
   ]
  },
  {
   "cell_type": "markdown",
   "id": "d7c2cbb0",
   "metadata": {},
   "source": [
    "Q5 Create a list of all of the files in your parent directory"
   ]
  },
  {
   "cell_type": "code",
   "execution_count": null,
   "id": "b4f3732f",
   "metadata": {},
   "outputs": [],
   "source": []
  },
  {
   "cell_type": "markdown",
   "id": "49a1535e",
   "metadata": {},
   "source": [
    "Q Use multiprocessing to create three separate processes. Make each one wait a random number of\n",
    "seconds between one and five, print the current time, and then exit."
   ]
  },
  {
   "cell_type": "code",
   "execution_count": 34,
   "id": "52299d1c",
   "metadata": {},
   "outputs": [],
   "source": [
    "import multiprocessing\n",
    "\n",
    "def printsec(seconds):\n",
    "    from datetime import datetime\n",
    "    from time import sleep\n",
    "    sleep(seconds)\n",
    "    print('wait', seconds, 'seconds, time is', datetime.utcnow())\n",
    "    \n",
    "if __name__ == '__main__':\n",
    "    import random    \n",
    "    for n in range(3):\n",
    "        seconds = random.random()\n",
    "        proc = multiprocessing.Process(target=printsec, args=(seconds,))\n",
    "        proc.start()"
   ]
  },
  {
   "cell_type": "markdown",
   "id": "4fd3e917",
   "metadata": {},
   "source": [
    "Q Q. Create a date object of your day of birth"
   ]
  },
  {
   "cell_type": "code",
   "execution_count": 37,
   "id": "8f3d3f6d",
   "metadata": {},
   "outputs": [],
   "source": [
    "date = date(1999,7,16)"
   ]
  },
  {
   "cell_type": "code",
   "execution_count": 38,
   "id": "b8c684e5",
   "metadata": {},
   "outputs": [
    {
     "data": {
      "text/plain": [
       "datetime.date(1999, 7, 16)"
      ]
     },
     "execution_count": 38,
     "metadata": {},
     "output_type": "execute_result"
    }
   ],
   "source": [
    "date"
   ]
  },
  {
   "cell_type": "markdown",
   "id": "d5377019",
   "metadata": {},
   "source": [
    "QQ. What day of the week was your day of birth?"
   ]
  },
  {
   "cell_type": "code",
   "execution_count": 39,
   "id": "63177fa0",
   "metadata": {},
   "outputs": [
    {
     "data": {
      "text/plain": [
       "4"
      ]
     },
     "execution_count": 39,
     "metadata": {},
     "output_type": "execute_result"
    }
   ],
   "source": [
    "date.weekday()"
   ]
  },
  {
   "cell_type": "markdown",
   "id": "207d3e9c",
   "metadata": {},
   "source": [
    "Q. When will you be (or when were you) 10,000 days old?"
   ]
  },
  {
   "cell_type": "code",
   "execution_count": 40,
   "id": "7972fc1d",
   "metadata": {},
   "outputs": [
    {
     "ename": "SyntaxError",
     "evalue": "invalid syntax (Temp/ipykernel_11544/2585836538.py, line 1)",
     "output_type": "error",
     "traceback": [
      "\u001b[1;36m  File \u001b[1;32m\"C:\\Users\\mohit\\AppData\\Local\\Temp/ipykernel_11544/2585836538.py\"\u001b[1;36m, line \u001b[1;32m1\u001b[0m\n\u001b[1;33m    import datetime from datetime\u001b[0m\n\u001b[1;37m                    ^\u001b[0m\n\u001b[1;31mSyntaxError\u001b[0m\u001b[1;31m:\u001b[0m invalid syntax\n"
     ]
    }
   ],
   "source": [
    "from datetime import datetime\n",
    "day = date + timedelta()"
   ]
  },
  {
   "cell_type": "code",
   "execution_count": null,
   "id": "2d25dd35",
   "metadata": {},
   "outputs": [],
   "source": []
  }
 ],
 "metadata": {
  "kernelspec": {
   "display_name": "Python 3 (ipykernel)",
   "language": "python",
   "name": "python3"
  },
  "language_info": {
   "codemirror_mode": {
    "name": "ipython",
    "version": 3
   },
   "file_extension": ".py",
   "mimetype": "text/x-python",
   "name": "python",
   "nbconvert_exporter": "python",
   "pygments_lexer": "ipython3",
   "version": "3.9.7"
  }
 },
 "nbformat": 4,
 "nbformat_minor": 5
}
