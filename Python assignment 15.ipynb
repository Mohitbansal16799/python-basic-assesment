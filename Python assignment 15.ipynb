{
 "cells": [
  {
   "cell_type": "markdown",
   "id": "daa087c5",
   "metadata": {},
   "source": [
    "Ques1 1.How many seconds are in an hour? Use the interactive interpreter as a calculator and multiply the\n",
    "number of seconds in a minute (60) by the number of minutes in an hour (also 60).\n"
   ]
  },
  {
   "cell_type": "code",
   "execution_count": 2,
   "id": "331a996b",
   "metadata": {},
   "outputs": [
    {
     "name": "stdout",
     "output_type": "stream",
     "text": [
      "3600\n"
     ]
    }
   ],
   "source": [
    "no_of_second_in_minute = 60\n",
    "no_of_minute_in_hour = 60\n",
    "no_of_second_in_hour = no_of_second_in_minute * no_of_minute_in_hour\n",
    "print(no_of_second_in_hour)"
   ]
  },
  {
   "cell_type": "markdown",
   "id": "ae6641e4",
   "metadata": {},
   "source": [
    "Ques2 Assign the result from the previous task (seconds in an hour) to a variable called\n",
    "seconds_per_hour."
   ]
  },
  {
   "cell_type": "code",
   "execution_count": 3,
   "id": "6f84695d",
   "metadata": {},
   "outputs": [
    {
     "data": {
      "text/plain": [
       "3600"
      ]
     },
     "execution_count": 3,
     "metadata": {},
     "output_type": "execute_result"
    }
   ],
   "source": [
    "no_of_second_in_hour"
   ]
  },
  {
   "cell_type": "markdown",
   "id": "70dc3770",
   "metadata": {},
   "source": [
    "Ques3 How many seconds do you think there are in a day? Make use of the variables seconds per hour\n",
    "and minutes per hour."
   ]
  },
  {
   "cell_type": "code",
   "execution_count": 4,
   "id": "3607db43",
   "metadata": {},
   "outputs": [
    {
     "data": {
      "text/plain": [
       "86400"
      ]
     },
     "execution_count": 4,
     "metadata": {},
     "output_type": "execute_result"
    }
   ],
   "source": [
    "no_of_second_in_hour * 24 #because there is 24 hour in a day"
   ]
  },
  {
   "cell_type": "markdown",
   "id": "927e82d8",
   "metadata": {},
   "source": [
    "QUes4 Calculate seconds per day again, but this time save the result in a variable called seconds_per_day?"
   ]
  },
  {
   "cell_type": "code",
   "execution_count": 5,
   "id": "bf0e022e",
   "metadata": {},
   "outputs": [
    {
     "data": {
      "text/plain": [
       "86400"
      ]
     },
     "execution_count": 5,
     "metadata": {},
     "output_type": "execute_result"
    }
   ],
   "source": [
    "second_per_day = no_of_second_in_hour * 24 #because there is 24 hour in a day\n",
    "second_per_day"
   ]
  },
  {
   "cell_type": "markdown",
   "id": "d2d5dbac",
   "metadata": {},
   "source": [
    "Ques5 Divide seconds_per_day by seconds_per_hour. Use floating-point (/) division."
   ]
  },
  {
   "cell_type": "code",
   "execution_count": 8,
   "id": "480f9123",
   "metadata": {},
   "outputs": [
    {
     "data": {
      "text/plain": [
       "24.0"
      ]
     },
     "execution_count": 8,
     "metadata": {},
     "output_type": "execute_result"
    }
   ],
   "source": [
    "second_per_day/no_of_second_in_hour"
   ]
  },
  {
   "cell_type": "markdown",
   "id": "833b7c30",
   "metadata": {},
   "source": [
    "Ques6 Divide seconds_per_day by seconds_per_hour, using integer (//) division. Did this number agree\n",
    "with the floating-point value from the previous question, aside from the final .0?"
   ]
  },
  {
   "cell_type": "code",
   "execution_count": 9,
   "id": "463c9e1b",
   "metadata": {},
   "outputs": [
    {
     "data": {
      "text/plain": [
       "24"
      ]
     },
     "execution_count": 9,
     "metadata": {},
     "output_type": "execute_result"
    }
   ],
   "source": [
    "second_per_day//no_of_second_in_hour"
   ]
  },
  {
   "cell_type": "raw",
   "id": "fcf36940",
   "metadata": {},
   "source": []
  }
 ],
 "metadata": {
  "kernelspec": {
   "display_name": "Python 3 (ipykernel)",
   "language": "python",
   "name": "python3"
  },
  "language_info": {
   "codemirror_mode": {
    "name": "ipython",
    "version": 3
   },
   "file_extension": ".py",
   "mimetype": "text/x-python",
   "name": "python",
   "nbconvert_exporter": "python",
   "pygments_lexer": "ipython3",
   "version": "3.9.7"
  }
 },
 "nbformat": 4,
 "nbformat_minor": 5
}
