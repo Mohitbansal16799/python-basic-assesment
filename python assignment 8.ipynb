{
 "cells": [
  {
   "cell_type": "markdown",
   "id": "b93725fe",
   "metadata": {},
   "source": [
    "Ques1 Is the Python Standard Library included with PyInputPlus?\n",
    "\n",
    "Ans.NO"
   ]
  },
  {
   "cell_type": "markdown",
   "id": "d243a9ec",
   "metadata": {},
   "source": [
    "Ques2 Why is PyInputPlus commonly imported with import pyinputplus as pypi?\n",
    "\n",
    "Ans.to enter shorter name "
   ]
  },
  {
   "cell_type": "markdown",
   "id": "a9dd4612",
   "metadata": {},
   "source": [
    "Ques3 How do you distinguish between inputInt() and inputFloat()?\n",
    "\n",
    "Ans inputInt() take only integers\n",
    "    inputFloat() take only float numbers"
   ]
  },
  {
   "cell_type": "markdown",
   "id": "1a136cd9",
   "metadata": {},
   "source": [
    "Ques4 Using PyInputPlus, how do you ensure that the user enters a whole number between 0 and 99?"
   ]
  },
  {
   "cell_type": "code",
   "execution_count": 2,
   "id": "6baff4c1",
   "metadata": {},
   "outputs": [
    {
     "name": "stdout",
     "output_type": "stream",
     "text": [
      "Collecting PyinputPlus\n",
      "  Downloading PyInputPlus-0.2.12.tar.gz (20 kB)\n",
      "  Installing build dependencies: started\n",
      "  Installing build dependencies: finished with status 'done'\n",
      "  Getting requirements to build wheel: started\n",
      "  Getting requirements to build wheel: finished with status 'done'\n",
      "    Preparing wheel metadata: started\n",
      "    Preparing wheel metadata: finished with status 'done'\n",
      "Collecting stdiomask>=0.0.3\n",
      "  Downloading stdiomask-0.0.6.tar.gz (3.6 kB)\n",
      "  Installing build dependencies: started\n",
      "  Installing build dependencies: finished with status 'done'\n",
      "  Getting requirements to build wheel: started\n",
      "  Getting requirements to build wheel: finished with status 'done'\n",
      "    Preparing wheel metadata: started\n",
      "    Preparing wheel metadata: finished with status 'done'\n",
      "Collecting pysimplevalidate>=0.2.7\n",
      "  Downloading PySimpleValidate-0.2.12.tar.gz (22 kB)\n",
      "  Installing build dependencies: started\n",
      "  Installing build dependencies: finished with status 'done'\n",
      "  Getting requirements to build wheel: started\n",
      "  Getting requirements to build wheel: finished with status 'done'\n",
      "    Preparing wheel metadata: started\n",
      "    Preparing wheel metadata: finished with status 'done'\n",
      "Building wheels for collected packages: PyinputPlus, pysimplevalidate, stdiomask\n",
      "  Building wheel for PyinputPlus (PEP 517): started\n",
      "  Building wheel for PyinputPlus (PEP 517): finished with status 'done'\n",
      "  Created wheel for PyinputPlus: filename=PyInputPlus-0.2.12-py3-none-any.whl size=11297 sha256=3a1a55db675bb55e89002f3bc59bece556757e43b3996b3aa3f0c5a240219379\n",
      "  Stored in directory: c:\\users\\mohit\\appdata\\local\\pip\\cache\\wheels\\b4\\6e\\2f\\8a852732646cabec36c3fe8fc060ec5bea1c1be711432c47f7\n",
      "  Building wheel for pysimplevalidate (PEP 517): started\n",
      "  Building wheel for pysimplevalidate (PEP 517): finished with status 'done'\n",
      "  Created wheel for pysimplevalidate: filename=PySimpleValidate-0.2.12-py3-none-any.whl size=16175 sha256=21fe698a97ac3550dffde22eeb89462eac22f0962cf784b7776b69d9ce678978\n",
      "  Stored in directory: c:\\users\\mohit\\appdata\\local\\pip\\cache\\wheels\\b1\\44\\4a\\043a4f4c4512c7cdfb0c2b8408b18b0de5fd45cac57f5dfa02\n",
      "  Building wheel for stdiomask (PEP 517): started\n",
      "  Building wheel for stdiomask (PEP 517): finished with status 'done'\n",
      "  Created wheel for stdiomask: filename=stdiomask-0.0.6-py3-none-any.whl size=3306 sha256=9fe5bed7e7e1ee11aa6339e69e70411989f0c2568d68338f619ee1e6dc691564\n",
      "  Stored in directory: c:\\users\\mohit\\appdata\\local\\pip\\cache\\wheels\\1d\\aa\\47\\f41f117d22c5de82e95d9342f44da578c80610739a2d5ebec4\n",
      "Successfully built PyinputPlus pysimplevalidate stdiomask\n",
      "Installing collected packages: stdiomask, pysimplevalidate, PyinputPlus\n",
      "Successfully installed PyinputPlus-0.2.12 pysimplevalidate-0.2.12 stdiomask-0.0.6\n",
      "Note: you may need to restart the kernel to use updated packages.\n"
     ]
    }
   ],
   "source": [
    "pip install PyinputPlus"
   ]
  },
  {
   "cell_type": "code",
   "execution_count": 4,
   "id": "08861876",
   "metadata": {},
   "outputs": [],
   "source": [
    "import pyinputplus as pypl"
   ]
  },
  {
   "cell_type": "code",
   "execution_count": 10,
   "id": "fc898416",
   "metadata": {},
   "outputs": [
    {
     "name": "stdout",
     "output_type": "stream",
     "text": [
      "enter whole no. between 0 and 99  120\n",
      "Number must be at maximum 99.\n",
      "enter whole no. between 0 and 99  250\n",
      "Number must be at maximum 99.\n",
      "enter whole no. between 0 and 99  0\n"
     ]
    },
    {
     "data": {
      "text/plain": [
       "0"
      ]
     },
     "execution_count": 10,
     "metadata": {},
     "output_type": "execute_result"
    }
   ],
   "source": [
    "pypl.inputNum(\"enter whole no. between 0 and 99  \",max = 99)"
   ]
  },
  {
   "cell_type": "code",
   "execution_count": null,
   "id": "80cf7dfe",
   "metadata": {},
   "outputs": [],
   "source": [
    "Ques5 What is transferred to the keyword arguments allowRegexes and blockRegexes?\n",
    "\n",
    "Ans. "
   ]
  },
  {
   "cell_type": "markdown",
   "id": "086f51dc",
   "metadata": {},
   "source": [
    "Ques6 If a blank input is entered three times, what does inputStr(limit=3) do?\n",
    "\n",
    "Ans show error retrylimitexception"
   ]
  },
  {
   "cell_type": "markdown",
   "id": "8fe42c3a",
   "metadata": {},
   "source": [
    "Ques7 If blank input is entered three times, what does inputStr(limit=3, default=\"hello\") do?"
   ]
  },
  {
   "cell_type": "code",
   "execution_count": 13,
   "id": "5015f9cc",
   "metadata": {},
   "outputs": [
    {
     "name": "stdout",
     "output_type": "stream",
     "text": [
      "enter your name   \n",
      "Blank values are not allowed.\n",
      "enter your name   \n",
      "Blank values are not allowed.\n",
      "enter your name   \n",
      "Blank values are not allowed.\n"
     ]
    },
    {
     "data": {
      "text/plain": [
       "'hello'"
      ]
     },
     "execution_count": 13,
     "metadata": {},
     "output_type": "execute_result"
    }
   ],
   "source": [
    "pypl.inputStr(\"enter your name   \",limit=3,default=\"hello\" )"
   ]
  },
  {
   "cell_type": "code",
   "execution_count": null,
   "id": "6a417cda",
   "metadata": {},
   "outputs": [],
   "source": []
  }
 ],
 "metadata": {
  "kernelspec": {
   "display_name": "Python 3 (ipykernel)",
   "language": "python",
   "name": "python3"
  },
  "language_info": {
   "codemirror_mode": {
    "name": "ipython",
    "version": 3
   },
   "file_extension": ".py",
   "mimetype": "text/x-python",
   "name": "python",
   "nbconvert_exporter": "python",
   "pygments_lexer": "ipython3",
   "version": "3.9.7"
  }
 },
 "nbformat": 4,
 "nbformat_minor": 5
}
