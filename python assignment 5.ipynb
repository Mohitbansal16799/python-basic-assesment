{
 "cells": [
  {
   "cell_type": "markdown",
   "id": "75c60fa8",
   "metadata": {},
   "source": [
    "Q1. What does an empty dictionary code look like?\n",
    "\n",
    "Ans. Empty dictionary also set to {}"
   ]
  },
  {
   "cell_type": "markdown",
   "id": "c4edf1b4",
   "metadata": {},
   "source": [
    "Q2 What is the value of a dictionary value with the key \"foo\" and the value 42?\n",
    "\n",
    "Ans. dict = {\"foo\":42}"
   ]
  },
  {
   "cell_type": "markdown",
   "id": "84707a65",
   "metadata": {},
   "source": [
    "Q3 What is the most significant distinction between a dictionary and a list?\n",
    "\n",
    "Ans. List is a index value pairs and dictionary is contain of keys and values. "
   ]
  },
  {
   "cell_type": "markdown",
   "id": "78271450",
   "metadata": {},
   "source": [
    "Q4 What happens if you try to access spam[\"foo\"] is spam is [\"bar\":100]?\n"
   ]
  },
  {
   "cell_type": "code",
   "execution_count": 9,
   "id": "e3fe50bb",
   "metadata": {},
   "outputs": [],
   "source": [
    "spam = {\"bar\":100}\n",
    "#spam[\"foo\"] it shows error of keyerror or invalid syntax\n"
   ]
  },
  {
   "cell_type": "markdown",
   "id": "c59f4805",
   "metadata": {},
   "source": [
    "Q5 If a dictionary is stored in spam, what is the difference between the expressions \"cat\" in spam and \"cat\" in spam.keys()?\n",
    "\n",
    "Ans. dictionary contains of keys and values. when we use spam.keys() we get all keys available in spam dictionary"
   ]
  },
  {
   "cell_type": "markdown",
   "id": "3334131a",
   "metadata": {},
   "source": [
    "Q6 If a dictionary is stored in spam, what is the difference between the expressions \"cat\" in spam and \"cat\" in spam.values()?\n",
    "\n",
    "Ans. dictionary contains of keys and values. when we use spam.values() we get all values available in spam dictionary"
   ]
  },
  {
   "cell_type": "markdown",
   "id": "173a4bde",
   "metadata": {},
   "source": [
    "Q7 what is shortcut of the following code?\n",
    "\n",
    "if \"color\" not in spam\n",
    "\n",
    "spam[\"color\"] = \"black\""
   ]
  },
  {
   "cell_type": "code",
   "execution_count": 14,
   "id": "7a4e629d",
   "metadata": {},
   "outputs": [
    {
     "data": {
      "text/plain": [
       "'black'"
      ]
     },
     "execution_count": 14,
     "metadata": {},
     "output_type": "execute_result"
    }
   ],
   "source": [
    "#Ans\n",
    "spam = {}\n",
    "spam.setdefault(\"color\",\"black\")"
   ]
  },
  {
   "cell_type": "code",
   "execution_count": 15,
   "id": "da5ba524",
   "metadata": {},
   "outputs": [
    {
     "data": {
      "text/plain": [
       "{'color': 'black'}"
      ]
     },
     "execution_count": 15,
     "metadata": {},
     "output_type": "execute_result"
    }
   ],
   "source": [
    "spam"
   ]
  },
  {
   "cell_type": "markdown",
   "id": "43f2587a",
   "metadata": {},
   "source": [
    "Q8 How do you \"pretty print\" dictionary values using which module and function"
   ]
  },
  {
   "cell_type": "markdown",
   "id": "7ef466a6",
   "metadata": {},
   "source": [
    "he pprint() module sorts the data by key value and prints the whole dictionary code. To use it, import the module then call pprint.print(), passing the dictionary to pretty print as the first argument."
   ]
  },
  {
   "cell_type": "code",
   "execution_count": 19,
   "id": "203cfe40",
   "metadata": {},
   "outputs": [
    {
     "name": "stdout",
     "output_type": "stream",
     "text": [
      "{'a': 1, 'b': 2}\n"
     ]
    }
   ],
   "source": [
    "import pprint\n",
    "dict = {\"b\":2,\"a\":1}\n",
    "pprint.pprint(dict)"
   ]
  },
  {
   "cell_type": "code",
   "execution_count": null,
   "id": "13a94ee1",
   "metadata": {},
   "outputs": [],
   "source": []
  }
 ],
 "metadata": {
  "kernelspec": {
   "display_name": "Python 3 (ipykernel)",
   "language": "python",
   "name": "python3"
  },
  "language_info": {
   "codemirror_mode": {
    "name": "ipython",
    "version": 3
   },
   "file_extension": ".py",
   "mimetype": "text/x-python",
   "name": "python",
   "nbconvert_exporter": "python",
   "pygments_lexer": "ipython3",
   "version": "3.9.7"
  }
 },
 "nbformat": 4,
 "nbformat_minor": 5
}
